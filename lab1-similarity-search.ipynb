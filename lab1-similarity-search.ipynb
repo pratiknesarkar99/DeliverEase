{
  "nbformat": 4,
  "nbformat_minor": 5,
  "metadata": {
    "colab": {
      "provenance": [],
      "include_colab_link": true
    },
    "language_info": {
      "name": "python"
    },
    "kernelspec": {
      "name": "python3",
      "display_name": "Python 3"
    }
  },
  "cells": [
    {
      "cell_type": "markdown",
      "metadata": {
        "id": "view-in-github",
        "colab_type": "text"
      },
      "source": [
        "<a href=\"https://colab.research.google.com/github/pratiknesarkar99/DeliverEase/blob/main/lab1-similarity-search.ipynb\" target=\"_parent\"><img src=\"https://colab.research.google.com/assets/colab-badge.svg\" alt=\"Open In Colab\"/></a>"
      ]
    },
    {
      "id": "4a250e70",
      "cell_type": "markdown",
      "source": [
        "# Sentence Similarity Demo with Sentence Transformers"
      ],
      "metadata": {
        "id": "4a250e70"
      }
    },
    {
      "id": "77cf00ed",
      "cell_type": "markdown",
      "source": [
        "## 🧠 Step 1: Install and Import Dependencies"
      ],
      "metadata": {
        "id": "77cf00ed"
      }
    },
    {
      "id": "c9ec244f",
      "cell_type": "code",
      "metadata": {
        "id": "c9ec244f",
        "outputId": "2b0d301b-e6fb-4450-d76e-4c2a5dff1771",
        "colab": {
          "base_uri": "https://localhost:8080/"
        }
      },
      "execution_count": 1,
      "source": [
        "!pip install -q sentence-transformers"
      ],
      "outputs": [
        {
          "output_type": "stream",
          "name": "stdout",
          "text": [
            "\u001b[2K   \u001b[90m━━━━━━━━━━━━━━━━━━━━━━━━━━━━━━━━━━━━━━━━\u001b[0m \u001b[32m363.4/363.4 MB\u001b[0m \u001b[31m4.3 MB/s\u001b[0m eta \u001b[36m0:00:00\u001b[0m\n",
            "\u001b[2K   \u001b[90m━━━━━━━━━━━━━━━━━━━━━━━━━━━━━━━━━━━━━━━━\u001b[0m \u001b[32m13.8/13.8 MB\u001b[0m \u001b[31m57.4 MB/s\u001b[0m eta \u001b[36m0:00:00\u001b[0m\n",
            "\u001b[2K   \u001b[90m━━━━━━━━━━━━━━━━━━━━━━━━━━━━━━━━━━━━━━━━\u001b[0m \u001b[32m24.6/24.6 MB\u001b[0m \u001b[31m45.6 MB/s\u001b[0m eta \u001b[36m0:00:00\u001b[0m\n",
            "\u001b[2K   \u001b[90m━━━━━━━━━━━━━━━━━━━━━━━━━━━━━━━━━━━━━━━━\u001b[0m \u001b[32m883.7/883.7 kB\u001b[0m \u001b[31m31.6 MB/s\u001b[0m eta \u001b[36m0:00:00\u001b[0m\n",
            "\u001b[2K   \u001b[90m━━━━━━━━━━━━━━━━━━━━━━━━━━━━━━━━━━━━━━━━\u001b[0m \u001b[32m664.8/664.8 MB\u001b[0m \u001b[31m2.7 MB/s\u001b[0m eta \u001b[36m0:00:00\u001b[0m\n",
            "\u001b[2K   \u001b[90m━━━━━━━━━━━━━━━━━━━━━━━━━━━━━━━━━━━━━━━━\u001b[0m \u001b[32m211.5/211.5 MB\u001b[0m \u001b[31m5.9 MB/s\u001b[0m eta \u001b[36m0:00:00\u001b[0m\n",
            "\u001b[2K   \u001b[90m━━━━━━━━━━━━━━━━━━━━━━━━━━━━━━━━━━━━━━━━\u001b[0m \u001b[32m56.3/56.3 MB\u001b[0m \u001b[31m11.2 MB/s\u001b[0m eta \u001b[36m0:00:00\u001b[0m\n",
            "\u001b[2K   \u001b[90m━━━━━━━━━━━━━━━━━━━━━━━━━━━━━━━━━━━━━━━━\u001b[0m \u001b[32m127.9/127.9 MB\u001b[0m \u001b[31m7.2 MB/s\u001b[0m eta \u001b[36m0:00:00\u001b[0m\n",
            "\u001b[2K   \u001b[90m━━━━━━━━━━━━━━━━━━━━━━━━━━━━━━━━━━━━━━━━\u001b[0m \u001b[32m207.5/207.5 MB\u001b[0m \u001b[31m5.8 MB/s\u001b[0m eta \u001b[36m0:00:00\u001b[0m\n",
            "\u001b[2K   \u001b[90m━━━━━━━━━━━━━━━━━━━━━━━━━━━━━━━━━━━━━━━━\u001b[0m \u001b[32m21.1/21.1 MB\u001b[0m \u001b[31m33.9 MB/s\u001b[0m eta \u001b[36m0:00:00\u001b[0m\n",
            "\u001b[?25h"
          ]
        }
      ]
    },
    {
      "id": "b02162c1",
      "cell_type": "code",
      "metadata": {
        "id": "b02162c1"
      },
      "execution_count": 3,
      "source": [
        "from sentence_transformers import SentenceTransformer, util\n",
        "import torch"
      ],
      "outputs": []
    },
    {
      "id": "7a944a7d",
      "cell_type": "markdown",
      "source": [
        "## 🤖 Step 2: Load Pretrained Sentence Transformer Model"
      ],
      "metadata": {
        "id": "7a944a7d"
      }
    },
    {
      "id": "bd335eac",
      "cell_type": "code",
      "metadata": {
        "id": "bd335eac",
        "outputId": "d6652fcc-2ba0-47ed-fae7-6d91252b214b",
        "colab": {
          "base_uri": "https://localhost:8080/",
          "height": 144
        }
      },
      "execution_count": 2,
      "source": [
        "model = SentenceTransformer('all-MiniLM-L6-v2')"
      ],
      "outputs": [
        {
          "output_type": "error",
          "ename": "NameError",
          "evalue": "name 'SentenceTransformer' is not defined",
          "traceback": [
            "\u001b[0;31m---------------------------------------------------------------------------\u001b[0m",
            "\u001b[0;31mNameError\u001b[0m                                 Traceback (most recent call last)",
            "\u001b[0;32m<ipython-input-2-ff89c08aee86>\u001b[0m in \u001b[0;36m<cell line: 0>\u001b[0;34m()\u001b[0m\n\u001b[0;32m----> 1\u001b[0;31m \u001b[0mmodel\u001b[0m \u001b[0;34m=\u001b[0m \u001b[0mSentenceTransformer\u001b[0m\u001b[0;34m(\u001b[0m\u001b[0;34m'all-MiniLM-L6-v2'\u001b[0m\u001b[0;34m)\u001b[0m\u001b[0;34m\u001b[0m\u001b[0;34m\u001b[0m\u001b[0m\n\u001b[0m",
            "\u001b[0;31mNameError\u001b[0m: name 'SentenceTransformer' is not defined"
          ]
        }
      ]
    },
    {
      "id": "49f35559",
      "cell_type": "markdown",
      "source": [
        "## 📝 Step 3: Define a List of Clustered Sentences\n",
        "Grouped into weather, food, and travel topics so you can see how similarity naturally clusters."
      ],
      "metadata": {
        "id": "49f35559"
      }
    },
    {
      "id": "ec9e5129",
      "cell_type": "code",
      "metadata": {
        "id": "ec9e5129"
      },
      "execution_count": null,
      "source": [
        "sentences = [\n",
        "    # Weather\n",
        "    \"It looks like it's going to rain today.\",\n",
        "    \"The forecast says we can expect sunshine all week.\",\n",
        "    \"I love watching thunderstorms from my porch.\",\n",
        "\n",
        "    # Food\n",
        "    \"Pizza is my favorite food.\",\n",
        "    \"I had a delicious burger for lunch.\",\n",
        "    \"She baked an amazing chocolate cake yesterday.\",\n",
        "\n",
        "    # Travel\n",
        "    \"We flew to Paris last summer.\",\n",
        "    \"He's planning a road trip across the US.\",\n",
        "    \"They booked a cruise to the Caribbean.\"\n",
        "]"
      ],
      "outputs": []
    },
    {
      "id": "6a129470",
      "cell_type": "markdown",
      "source": [
        "## 🧬 Step 4: Generate Sentence Embeddings"
      ],
      "metadata": {
        "id": "6a129470"
      }
    },
    {
      "id": "d5fc0746",
      "cell_type": "code",
      "metadata": {
        "id": "d5fc0746"
      },
      "execution_count": null,
      "source": [
        "embeddings = model.encode(sentences, convert_to_tensor=True)"
      ],
      "outputs": []
    },
    {
      "id": "f6c2a04b",
      "cell_type": "markdown",
      "source": [
        "## 📐 Step 5: Compute Cosine Similarity Matrix"
      ],
      "metadata": {
        "id": "f6c2a04b"
      }
    },
    {
      "id": "dff56ee4",
      "cell_type": "code",
      "metadata": {
        "id": "dff56ee4"
      },
      "execution_count": null,
      "source": [
        "cosine_scores = util.pytorch_cos_sim(embeddings, embeddings)"
      ],
      "outputs": []
    },
    {
      "id": "38d53cec",
      "cell_type": "markdown",
      "source": [
        "## 🔍 Step 6: Print the Most Similar Sentence for Each One"
      ],
      "metadata": {
        "id": "38d53cec"
      }
    },
    {
      "id": "532ad117",
      "cell_type": "code",
      "metadata": {
        "id": "532ad117"
      },
      "execution_count": null,
      "source": [
        "print(\"Most similar sentences:\\n\")\n",
        "for i in range(len(sentences)):\n",
        "    # Exclude self-comparison\n",
        "    cosine_scores[i][i] = -1\n",
        "    most_similar_idx = torch.argmax(cosine_scores[i]).item()\n",
        "    print(f\"\\nBase sentence: {sentences[i]}\\nMost similar : {sentences[most_similar_idx]}\")"
      ],
      "outputs": []
    }
  ]
}